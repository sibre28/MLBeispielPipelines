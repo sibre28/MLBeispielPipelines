{
 "cells": [
  {
   "cell_type": "code",
   "execution_count": 1,
   "metadata": {
    "collapsed": true
   },
   "outputs": [],
   "source": [
    "import math\n",
    "\n",
    "import numpy as np\n",
    "import pandas as pd\n",
    "import torch\n",
    "from sklearn.preprocessing import StandardScaler\n",
    "import torch.nn as nn\n",
    "from sklearn.model_selection import train_test_split"
   ]
  },
  {
   "cell_type": "code",
   "execution_count": 2,
   "outputs": [],
   "source": [
    "data = pd.read_csv(\"C:\\\\Users\\\\Simon\\\\PycharmProjects\\\\NeuronaleNetze\\\\data\\\\houses.csv\")\n",
    "data = data.sample(frac = 1)\n",
    "data.columns = data.columns.astype(str)\n",
    "\n",
    "#Dropping non-useful columns\n",
    "data = data.drop(\"id\", axis=1)\n",
    "data = data.drop(\"lat\", axis=1)\n",
    "data = data.drop(\"long\", axis=1)\n",
    "data = data.drop(\"condition\", axis=1)\n",
    "data = data.drop(\"grade\", axis=1)\n",
    "data = data.drop(\"date\", axis=1)\n",
    "data = data.drop(\"zipcode\", axis=1)\n",
    "\n",
    "y = data[\"price\"].values\n",
    "x = data.drop(\"price\", axis=1).values\n",
    "\n",
    "st = StandardScaler()\n",
    "x = st.fit_transform(x)\n",
    "\n",
    "xtrain, xtest, ytrain, ytest = train_test_split(x, y, test_size=0.2)\n",
    "\n",
    "from torch.utils.data import Dataset,DataLoader\n",
    "class HousesDataset(Dataset):\n",
    "    def __init__(self, X, y):\n",
    "        self.X = torch.from_numpy(X.astype(np.float32))\n",
    "        self.Y = torch.from_numpy(y.astype(np.float32))\n",
    "        self.len = self.X.shape[0]\n",
    "    def __getitem__(self, item):\n",
    "        return self.X[item],self.Y[item]\n",
    "    def __len__(self):\n",
    "        return self.len\n",
    "\n",
    "train_data = HousesDataset(xtrain,ytrain)\n",
    "test_data = HousesDataset(xtest,ytest)\n",
    "train_loader = DataLoader(dataset=train_data,batch_size=32,shuffle=True)\n",
    "test_loader = DataLoader(dataset=test_data,batch_size=32,shuffle=True)"
   ],
   "metadata": {
    "collapsed": false
   }
  },
  {
   "cell_type": "code",
   "execution_count": 3,
   "outputs": [],
   "source": [
    "class TorchNet(nn.Module):\n",
    "    def __init__(self):\n",
    "        super(TorchNet, self).__init__()\n",
    "        self.layer1 = nn.Linear(13,8)\n",
    "        self.fn1 = nn.ReLU()\n",
    "        self.layer2 = nn.Linear(8,4)\n",
    "        self.fn2 = nn.ReLU()\n",
    "        self.layer3 = nn.Linear(4,1)\n",
    "\n",
    "    def forward(self,x):\n",
    "        x = self.fn1(self.layer1(x))\n",
    "        x = self.fn2(self.layer2(x))\n",
    "        x = self.layer3(x)\n",
    "        return x"
   ],
   "metadata": {
    "collapsed": false
   }
  },
  {
   "cell_type": "code",
   "execution_count": 4,
   "outputs": [],
   "source": [
    "fnn = TorchNet()\n",
    "loss_fn = nn.MSELoss()\n",
    "optimizer=torch.optim.Adam(fnn.parameters(),lr=0.001)\n",
    "\n",
    "loss_values = []\n",
    "tmp_loss = []\n",
    "\n",
    "num_epochs = 100\n",
    "for epoch in range(num_epochs):\n",
    "    tmp_loss = []\n",
    "    for X,y in train_loader:\n",
    "        pred = fnn(X)\n",
    "\n",
    "        loss = loss_fn(pred,y.unsqueeze(-1))\n",
    "        tmp_loss.append(loss.item())\n",
    "\n",
    "        optimizer.zero_grad()\n",
    "        loss.backward()\n",
    "        optimizer.step()\n",
    "    loss_values.append(np.mean(tmp_loss))"
   ],
   "metadata": {
    "collapsed": false
   }
  },
  {
   "cell_type": "code",
   "execution_count": 5,
   "outputs": [
    {
     "name": "stdout",
     "output_type": "stream",
     "text": [
      "[222680, 258582, 239141, 226829, 296513, 180710, 189800, 158800, 214024, 186364, 214726, 254418, 184625, 372593, 223878, 152486, 173340, 262640, 164593, 245504, 329943, 160583, 215797, 206539, 207310, 195214, 391573, 204528, 169013, 468254, 203232, 190999, 202484, 273691, 308725, 160385, 219099, 186293, 163179, 165954, 152282, 203017, 183849, 141123, 184516, 169866, 702597, 183233, 204195, 368190, 193110, 341724, 179353, 241908, 133875, 180755, 237336, 166067, 180995, 114199, 153120, 173710, 200241, 216340, 227068, 214897, 261160, 240273, 175426, 185953, 142531, 182448, 177868, 443073, 212566, 281541, 203835, 265047, 165152, 279821, 443855, 231725, 229933, 267324, 241745, 191543, 159274, 222127, 175126, 224678, 196717, 257081, 300279, 251136, 265848, 303116, 118689, 159049, 256167, 216390, 157818, 399011, 170830, 190556, 162159, 378489, 513562, 196796, 186181, 196825, 274112, 273125, 320493, 126381, 177206, 166206, 281146, 206740, 216498, 164031, 162993, 118440, 245563, 208437, 259321, 134961, 253636, 308592, 238158, 185295, 216379, 272487, 191508, 276283, 184022, 187303]\n",
      "226637.10294117648\n"
     ]
    }
   ],
   "source": [
    "fnn.eval()\n",
    "loss_values_test = []\n",
    "with torch.no_grad():\n",
    "    for X,y in test_loader:\n",
    "        pred = fnn(X)\n",
    "        loss = loss_fn(pred,y.unsqueeze(-1))\n",
    "        loss_values_test.append(loss.item())\n",
    "\n",
    "loss_values_test = list(map(lambda x: math.sqrt(x).__round__(),loss_values_test))\n",
    "print(loss_values_test)\n",
    "print(np.mean(loss_values_test))"
   ],
   "metadata": {
    "collapsed": false
   }
  },
  {
   "cell_type": "code",
   "execution_count": 6,
   "outputs": [
    {
     "data": {
      "text/plain": "<Figure size 800x500 with 1 Axes>",
      "image/png": "[encoded data removed]"
     },
     "metadata": {},
     "output_type": "display_data"
    }
   ],
   "source": [
    "from matplotlib import pyplot as plt\n",
    "\n",
    "step = np.linspace(0, 100, 100)\n",
    "\n",
    "fig, ax = plt.subplots(figsize=(8, 5))\n",
    "plt.plot(step, np.array(loss_values))\n",
    "plt.title(\"Step-wise Loss\")\n",
    "plt.xlabel(\"Epochs\")\n",
    "plt.ylabel(\"Loss\")\n",
    "plt.show()"
   ],
   "metadata": {
    "collapsed": false
   }
  },
  {
   "cell_type": "code",
   "execution_count": 6,
   "outputs": [],
   "source": [],
   "metadata": {
    "collapsed": false
   }
  }
 ],
 "metadata": {
  "kernelspec": {
   "display_name": "Python 3",
   "language": "python",
   "name": "python3"
  },
  "language_info": {
   "codemirror_mode": {
    "name": "ipython",
    "version": 2
   },
   "file_extension": ".py",
   "mimetype": "text/x-python",
   "name": "python",
   "nbconvert_exporter": "python",
   "pygments_lexer": "ipython2",
   "version": "2.7.6"
  }
 },
 "nbformat": 4,
 "nbformat_minor": 0
}
