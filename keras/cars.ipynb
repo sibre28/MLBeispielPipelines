{
 "cells": [
  {
   "cell_type": "code",
   "execution_count": 2,
   "metadata": {
    "collapsed": true
   },
   "outputs": [
    {
     "ename": "ModuleNotFoundError",
     "evalue": "No module named 'keras.models'",
     "output_type": "error",
     "traceback": [
      "\u001B[1;31m---------------------------------------------------------------------------\u001B[0m",
      "\u001B[1;31mModuleNotFoundError\u001B[0m                       Traceback (most recent call last)",
      "Cell \u001B[1;32mIn[2], line 2\u001B[0m\n\u001B[0;32m      1\u001B[0m \u001B[38;5;28;01mimport\u001B[39;00m \u001B[38;5;21;01mpandas\u001B[39;00m \u001B[38;5;28;01mas\u001B[39;00m \u001B[38;5;21;01mpd\u001B[39;00m\n\u001B[1;32m----> 2\u001B[0m \u001B[38;5;28;01mfrom\u001B[39;00m \u001B[38;5;21;01mkeras\u001B[39;00m\u001B[38;5;21;01m.\u001B[39;00m\u001B[38;5;21;01mmodels\u001B[39;00m \u001B[38;5;28;01mimport\u001B[39;00m Sequential\n\u001B[0;32m      3\u001B[0m \u001B[38;5;28;01mfrom\u001B[39;00m \u001B[38;5;21;01mkeras\u001B[39;00m\u001B[38;5;21;01m.\u001B[39;00m\u001B[38;5;21;01mlayers\u001B[39;00m \u001B[38;5;28;01mimport\u001B[39;00m Dense\n\u001B[0;32m      4\u001B[0m \u001B[38;5;28;01mfrom\u001B[39;00m \u001B[38;5;21;01msklearn\u001B[39;00m\u001B[38;5;21;01m.\u001B[39;00m\u001B[38;5;21;01mmodel_selection\u001B[39;00m \u001B[38;5;28;01mimport\u001B[39;00m train_test_split\n",
      "\u001B[1;31mModuleNotFoundError\u001B[0m: No module named 'keras.models'"
     ]
    }
   ],
   "source": [
    "import pandas as pd\n",
    "from keras.models import Sequential\n",
    "from keras.layers import Dense\n",
    "from sklearn.model_selection import train_test_split\n",
    "from sklearn.preprocessing import StandardScaler, OneHotEncoder, LabelEncoder"
   ]
  },
  {
   "cell_type": "code",
   "execution_count": null,
   "outputs": [],
   "source": [
    "data = pd.read_csv(\"C:\\\\Users\\\\Simon\\\\PycharmProjects\\\\NeuronaleNetze\\\\data\\\\cars.csv\")\n",
    "\n",
    "data = data.sample(frac = 1)\n",
    "data.columns = data.columns.astype(str)\n",
    "\n",
    "#Modify Data\n",
    "\n",
    "le = LabelEncoder()\n",
    "\n",
    "#year\n",
    "data[\"year\"] = data[\"year\"].apply(lambda x : sorted(data[\"year\"].unique()).index(x))\n",
    "\n",
    "#fuel\n",
    "data[\"fuel\"] = le.fit_transform(data[\"fuel\"])\n",
    "\n",
    "#seller_type\n",
    "data[\"seller_type\"] = le.fit_transform(data[\"seller_type\"])\n",
    "\n",
    "#transmission\n",
    "data[\"transmission\"] = le.fit_transform(data[\"transmission\"])\n",
    "\n",
    "#owner\n",
    "data[\"owner\"] = le.fit_transform(data[\"owner\"])\n",
    "\n",
    "#drop non-useful columns\n",
    "data = data.drop(\"name\", axis=1)\n",
    "\n",
    "y = data[\"selling_price\"]\n",
    "x = data.drop(\"selling_price\", axis=1)\n",
    "\n",
    "st = StandardScaler()\n",
    "X = st.fit_transform(x)\n",
    "\n",
    "#Scaling and Splitting\n",
    "\n",
    "X_train, X_test, y_train, y_test = train_test_split(X, y, test_size=0.3, random_state=42)"
   ],
   "metadata": {
    "collapsed": false
   }
  },
  {
   "cell_type": "code",
   "execution_count": null,
   "outputs": [],
   "source": [
    "#ML\n",
    "model = Sequential()\n",
    "model.add(Dense(units=16, input_shape=(6,), activation=\"relu\"))\n",
    "model.add(Dense(units=4, activation=\"relu\"))\n",
    "model.add(Dense(units=1))\n",
    "\n",
    "model.compile(loss=\"mean_absolute_error\", optimizer=\"adam\", metrics=\"mean_absolute_error\")\n",
    "\n",
    "history = model.fit(X_train,y_train,epochs=100,batch_size=32,validation_split=0.1)\n",
    "\n",
    "_,loss = model.evaluate(X_test,y_test)\n",
    "print('Mean-Absolute-Error: %.2f' % loss)"
   ],
   "metadata": {
    "collapsed": false
   }
  },
  {
   "cell_type": "code",
   "execution_count": null,
   "outputs": [],
   "source": [
    "from matplotlib import pyplot as plt\n",
    "plt.plot(history.history['loss'])\n",
    "plt.plot(history.history['val_loss'])\n",
    "plt.title('model loss')\n",
    "plt.ylabel('loss')\n",
    "plt.xlabel('epoch')\n",
    "plt.legend(['train', 'val'], loc='upper left')\n",
    "plt.show()"
   ],
   "metadata": {
    "collapsed": false
   }
  },
  {
   "cell_type": "code",
   "execution_count": null,
   "outputs": [],
   "source": [],
   "metadata": {
    "collapsed": false
   }
  }
 ],
 "metadata": {
  "kernelspec": {
   "display_name": "Python 3",
   "language": "python",
   "name": "python3"
  },
  "language_info": {
   "codemirror_mode": {
    "name": "ipython",
    "version": 2
   },
   "file_extension": ".py",
   "mimetype": "text/x-python",
   "name": "python",
   "nbconvert_exporter": "python",
   "pygments_lexer": "ipython2",
   "version": "2.7.6"
  }
 },
 "nbformat": 4,
 "nbformat_minor": 0
}
